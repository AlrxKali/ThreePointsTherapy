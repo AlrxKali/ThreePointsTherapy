{
 "cells": [
  {
   "cell_type": "code",
   "execution_count": 3,
   "id": "0b64b1fd",
   "metadata": {
    "scrolled": true
   },
   "outputs": [
    {
     "name": "stdout",
     "output_type": "stream",
     "text": [
      "Defaulting to user installation because normal site-packages is not writeable\n",
      "Requirement already satisfied: my-voice-analysis in c:\\users\\kali\\appdata\\roaming\\python\\python39\\site-packages (0.7)\n",
      "Requirement already satisfied: numpy>=1.15.2 in c:\\programdata\\anaconda3\\lib\\site-packages (from my-voice-analysis) (1.21.5)\n",
      "Requirement already satisfied: scipy>=1.1.0 in c:\\programdata\\anaconda3\\lib\\site-packages (from my-voice-analysis) (1.7.3)\n",
      "Requirement already satisfied: praat-parselmouth>=0.3.2 in c:\\users\\kali\\appdata\\roaming\\python\\python39\\site-packages (from my-voice-analysis) (0.4.2)\n",
      "Requirement already satisfied: pandas>=0.23.4 in c:\\programdata\\anaconda3\\lib\\site-packages (from my-voice-analysis) (1.4.4)\n",
      "Requirement already satisfied: pytz>=2020.1 in c:\\programdata\\anaconda3\\lib\\site-packages (from pandas>=0.23.4->my-voice-analysis) (2022.1)\n",
      "Requirement already satisfied: python-dateutil>=2.8.1 in c:\\programdata\\anaconda3\\lib\\site-packages (from pandas>=0.23.4->my-voice-analysis) (2.8.2)\n",
      "Requirement already satisfied: six>=1.5 in c:\\programdata\\anaconda3\\lib\\site-packages (from python-dateutil>=2.8.1->pandas>=0.23.4->my-voice-analysis) (1.16.0)\n"
     ]
    }
   ],
   "source": [
    "!pip install my-voice-analysis"
   ]
  },
  {
   "cell_type": "code",
   "execution_count": 5,
   "id": "315f2f6f",
   "metadata": {},
   "outputs": [],
   "source": [
    "mysp=__import__(\"my-voice-analysis\")"
   ]
  },
  {
   "cell_type": "code",
   "execution_count": 36,
   "id": "270775c5",
   "metadata": {},
   "outputs": [],
   "source": [
    "p=\"Recording\"\n",
    "c=r\"C:\\Users\\kali\\Documents\\Sound Recordings\""
   ]
  },
  {
   "cell_type": "code",
   "execution_count": 37,
   "id": "a0b11573",
   "metadata": {},
   "outputs": [
    {
     "name": "stdout",
     "output_type": "stream",
     "text": [
      "[]\n",
      "number_ of_syllables= 8\n"
     ]
    }
   ],
   "source": [
    "mysp.myspsyl(p,c)"
   ]
  },
  {
   "cell_type": "code",
   "execution_count": 39,
   "id": "6d0f784d",
   "metadata": {},
   "outputs": [],
   "source": [
    "key = '46c7eda269934c49ae228a7cf9ebdbdf'"
   ]
  },
  {
   "cell_type": "code",
   "execution_count": 40,
   "id": "6edfdeee",
   "metadata": {},
   "outputs": [],
   "source": [
    "endpoint = 'https://eastus.api.cognitive.microsoft.com/sts/v1.0/issuetoken'"
   ]
  },
  {
   "cell_type": "code",
   "execution_count": 41,
   "id": "6ca5a361",
   "metadata": {},
   "outputs": [],
   "source": [
    "location = 'eastus'"
   ]
  },
  {
   "cell_type": "code",
   "execution_count": 46,
   "id": "fbc04e39",
   "metadata": {},
   "outputs": [
    {
     "ename": "ValueError",
     "evalue": "cannot construct SpeechConfig with the given arguments",
     "output_type": "error",
     "traceback": [
      "\u001b[1;31m---------------------------------------------------------------------------\u001b[0m",
      "\u001b[1;31mValueError\u001b[0m                                Traceback (most recent call last)",
      "\u001b[1;32m~\\AppData\\Local\\Temp\\ipykernel_44784\\1424376740.py\u001b[0m in \u001b[0;36m<module>\u001b[1;34m\u001b[0m\n\u001b[0;32m     24\u001b[0m             \u001b[0mprint\u001b[0m\u001b[1;33m(\u001b[0m\u001b[1;34m\"Did you set the speech resource key and region values?\"\u001b[0m\u001b[1;33m)\u001b[0m\u001b[1;33m\u001b[0m\u001b[1;33m\u001b[0m\u001b[0m\n\u001b[0;32m     25\u001b[0m \u001b[1;33m\u001b[0m\u001b[0m\n\u001b[1;32m---> 26\u001b[1;33m \u001b[0mrecognize_from_microphone\u001b[0m\u001b[1;33m(\u001b[0m\u001b[1;33m)\u001b[0m\u001b[1;33m\u001b[0m\u001b[1;33m\u001b[0m\u001b[0m\n\u001b[0m",
      "\u001b[1;32m~\\AppData\\Local\\Temp\\ipykernel_44784\\1424376740.py\u001b[0m in \u001b[0;36mrecognize_from_microphone\u001b[1;34m()\u001b[0m\n\u001b[0;32m      4\u001b[0m \u001b[1;32mdef\u001b[0m \u001b[0mrecognize_from_microphone\u001b[0m\u001b[1;33m(\u001b[0m\u001b[1;33m)\u001b[0m\u001b[1;33m:\u001b[0m\u001b[1;33m\u001b[0m\u001b[1;33m\u001b[0m\u001b[0m\n\u001b[0;32m      5\u001b[0m     \u001b[1;31m# This example requires environment variables named \"SPEECH_KEY\" and \"SPEECH_REGION\"\u001b[0m\u001b[1;33m\u001b[0m\u001b[1;33m\u001b[0m\u001b[0m\n\u001b[1;32m----> 6\u001b[1;33m     \u001b[0mspeech_config\u001b[0m \u001b[1;33m=\u001b[0m \u001b[0mspeechsdk\u001b[0m\u001b[1;33m.\u001b[0m\u001b[0mSpeechConfig\u001b[0m\u001b[1;33m(\u001b[0m\u001b[0msubscription\u001b[0m\u001b[1;33m=\u001b[0m\u001b[0mos\u001b[0m\u001b[1;33m.\u001b[0m\u001b[0menviron\u001b[0m\u001b[1;33m.\u001b[0m\u001b[0mget\u001b[0m\u001b[1;33m(\u001b[0m\u001b[0mkey\u001b[0m\u001b[1;33m)\u001b[0m\u001b[1;33m,\u001b[0m \u001b[0mregion\u001b[0m\u001b[1;33m=\u001b[0m\u001b[0mos\u001b[0m\u001b[1;33m.\u001b[0m\u001b[0menviron\u001b[0m\u001b[1;33m.\u001b[0m\u001b[0mget\u001b[0m\u001b[1;33m(\u001b[0m\u001b[0mlocation\u001b[0m\u001b[1;33m)\u001b[0m\u001b[1;33m)\u001b[0m\u001b[1;33m\u001b[0m\u001b[1;33m\u001b[0m\u001b[0m\n\u001b[0m\u001b[0;32m      7\u001b[0m     \u001b[0mspeech_config\u001b[0m\u001b[1;33m.\u001b[0m\u001b[0mspeech_recognition_language\u001b[0m\u001b[1;33m=\u001b[0m\u001b[1;34m\"en-US\"\u001b[0m\u001b[1;33m\u001b[0m\u001b[1;33m\u001b[0m\u001b[0m\n\u001b[0;32m      8\u001b[0m \u001b[1;33m\u001b[0m\u001b[0m\n",
      "\u001b[1;32m~\\AppData\\Roaming\\Python\\Python39\\site-packages\\azure\\cognitiveservices\\speech\\speech.py\u001b[0m in \u001b[0;36m__init__\u001b[1;34m(self, subscription, region, endpoint, host, auth_token, speech_recognition_language)\u001b[0m\n\u001b[0;32m     82\u001b[0m             \u001b[0m_call_hr_fn\u001b[0m\u001b[1;33m(\u001b[0m\u001b[0mfn\u001b[0m\u001b[1;33m=\u001b[0m\u001b[0m_sdk_lib\u001b[0m\u001b[1;33m.\u001b[0m\u001b[0mspeech_config_from_host\u001b[0m\u001b[1;33m,\u001b[0m \u001b[1;33m*\u001b[0m\u001b[1;33m[\u001b[0m\u001b[0mctypes\u001b[0m\u001b[1;33m.\u001b[0m\u001b[0mbyref\u001b[0m\u001b[1;33m(\u001b[0m\u001b[0mhandle\u001b[0m\u001b[1;33m)\u001b[0m\u001b[1;33m,\u001b[0m \u001b[0mc_host\u001b[0m\u001b[1;33m,\u001b[0m \u001b[0mc_subscription\u001b[0m\u001b[1;33m]\u001b[0m\u001b[1;33m)\u001b[0m\u001b[1;33m\u001b[0m\u001b[1;33m\u001b[0m\u001b[0m\n\u001b[0;32m     83\u001b[0m         \u001b[1;32melse\u001b[0m\u001b[1;33m:\u001b[0m\u001b[1;33m\u001b[0m\u001b[1;33m\u001b[0m\u001b[0m\n\u001b[1;32m---> 84\u001b[1;33m             \u001b[1;32mraise\u001b[0m \u001b[0mValueError\u001b[0m\u001b[1;33m(\u001b[0m\u001b[0mgeneric_error_message\u001b[0m\u001b[1;33m)\u001b[0m\u001b[1;33m\u001b[0m\u001b[1;33m\u001b[0m\u001b[0m\n\u001b[0m\u001b[0;32m     85\u001b[0m         \u001b[0mself\u001b[0m\u001b[1;33m.\u001b[0m\u001b[0m__handle\u001b[0m \u001b[1;33m=\u001b[0m \u001b[0m_Handle\u001b[0m\u001b[1;33m(\u001b[0m\u001b[0mhandle\u001b[0m\u001b[1;33m,\u001b[0m \u001b[0m_sdk_lib\u001b[0m\u001b[1;33m.\u001b[0m\u001b[0mspeech_config_is_handle_valid\u001b[0m\u001b[1;33m,\u001b[0m \u001b[0m_sdk_lib\u001b[0m\u001b[1;33m.\u001b[0m\u001b[0mspeech_config_release\u001b[0m\u001b[1;33m)\u001b[0m\u001b[1;33m\u001b[0m\u001b[1;33m\u001b[0m\u001b[0m\n\u001b[0;32m     86\u001b[0m         \u001b[0mprop_handle\u001b[0m \u001b[1;33m=\u001b[0m \u001b[0m_spx_handle\u001b[0m\u001b[1;33m(\u001b[0m\u001b[1;36m0\u001b[0m\u001b[1;33m)\u001b[0m\u001b[1;33m\u001b[0m\u001b[1;33m\u001b[0m\u001b[0m\n",
      "\u001b[1;31mValueError\u001b[0m: cannot construct SpeechConfig with the given arguments"
     ]
    }
   ],
   "source": [
    "import os\n",
    "import azure.cognitiveservices.speech as speechsdk\n",
    "\n",
    "def recognize_from_microphone():\n",
    "    # This example requires environment variables named \"SPEECH_KEY\" and \"SPEECH_REGION\"\n",
    "    speech_config = speechsdk.SpeechConfig(subscription=os.environ.get('SPEECH_KEY'), region=os.environ.get('SPEECH_REGION'))\n",
    "    speech_config.speech_recognition_language=\"en-US\"\n",
    "\n",
    "    audio_config = speechsdk.audio.AudioConfig(use_default_microphone=True)\n",
    "    speech_recognizer = speechsdk.SpeechRecognizer(speech_config=speech_config, audio_config=audio_config)\n",
    "\n",
    "    print(\"Speak into your microphone.\")\n",
    "    speech_recognition_result = speech_recognizer.recognize_once_async().get()\n",
    "\n",
    "    if speech_recognition_result.reason == speechsdk.ResultReason.RecognizedSpeech:\n",
    "        print(\"Recognized: {}\".format(speech_recognition_result.text))\n",
    "    elif speech_recognition_result.reason == speechsdk.ResultReason.NoMatch:\n",
    "        print(\"No speech could be recognized: {}\".format(speech_recognition_result.no_match_details))\n",
    "    elif speech_recognition_result.reason == speechsdk.ResultReason.Canceled:\n",
    "        cancellation_details = speech_recognition_result.cancellation_details\n",
    "        print(\"Speech Recognition canceled: {}\".format(cancellation_details.reason))\n",
    "        if cancellation_details.reason == speechsdk.CancellationReason.Error:\n",
    "            print(\"Error details: {}\".format(cancellation_details.error_details))\n",
    "            print(\"Did you set the speech resource key and region values?\")\n",
    "\n",
    "recognize_from_microphone()"
   ]
  },
  {
   "cell_type": "code",
   "execution_count": null,
   "id": "168a013f",
   "metadata": {},
   "outputs": [],
   "source": []
  }
 ],
 "metadata": {
  "kernelspec": {
   "display_name": "Python 3 (ipykernel)",
   "language": "python",
   "name": "python3"
  },
  "language_info": {
   "codemirror_mode": {
    "name": "ipython",
    "version": 3
   },
   "file_extension": ".py",
   "mimetype": "text/x-python",
   "name": "python",
   "nbconvert_exporter": "python",
   "pygments_lexer": "ipython3",
   "version": "3.9.13"
  }
 },
 "nbformat": 4,
 "nbformat_minor": 5
}
